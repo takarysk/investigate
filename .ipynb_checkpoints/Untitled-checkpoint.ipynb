{
 "cells": [
  {
   "cell_type": "code",
   "execution_count": 70,
   "id": "fc6e430f",
   "metadata": {},
   "outputs": [],
   "source": [
    "import pandas as pd\n",
    "import json\n",
    "\n",
    "excel_file = \"Navya_datalist.xlsx\"\n",
    "df = pd.read_excel(excel_file, index_col=0)"
   ]
  },
  {
   "cell_type": "code",
   "execution_count": 71,
   "id": "8db4e104",
   "metadata": {},
   "outputs": [
    {
     "data": {
      "text/plain": [
       "<pandas.core.indexing._iLocIndexer at 0x1a4b8037d10>"
      ]
     },
     "execution_count": 71,
     "metadata": {},
     "output_type": "execute_result"
    }
   ],
   "source": [
    "df.iloc"
   ]
  },
  {
   "cell_type": "code",
   "execution_count": 75,
   "id": "874ba6cb",
   "metadata": {},
   "outputs": [],
   "source": [
    "l = []\n",
    "for row_data in df.iloc:\n",
    "    l.append(row_data.to_dict())\n",
    "with open(\"output.json\", \"w\") as f:\n",
    "    f.write(json.dumps(l))"
   ]
  },
  {
   "cell_type": "code",
   "execution_count": null,
   "id": "0aec58c3",
   "metadata": {},
   "outputs": [],
   "source": []
  },
  {
   "cell_type": "code",
   "execution_count": null,
   "id": "6de4748f",
   "metadata": {},
   "outputs": [],
   "source": []
  },
  {
   "cell_type": "code",
   "execution_count": null,
   "id": "dd4f522b",
   "metadata": {},
   "outputs": [],
   "source": []
  }
 ],
 "metadata": {
  "kernelspec": {
   "display_name": "Python 3 (ipykernel)",
   "language": "python",
   "name": "python3"
  },
  "language_info": {
   "codemirror_mode": {
    "name": "ipython",
    "version": 3
   },
   "file_extension": ".py",
   "mimetype": "text/x-python",
   "name": "python",
   "nbconvert_exporter": "python",
   "pygments_lexer": "ipython3",
   "version": "3.9.12"
  }
 },
 "nbformat": 4,
 "nbformat_minor": 5
}
